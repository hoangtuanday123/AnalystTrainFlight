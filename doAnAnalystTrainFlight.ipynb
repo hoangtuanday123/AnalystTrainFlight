{
 "cells": [
  {
   "cell_type": "code",
   "execution_count": 97,
   "id": "4c8c0217-7ea6-4bed-b076-cd9000034879",
   "metadata": {},
   "outputs": [],
   "source": [
    "import pandas as pd\n",
    "import matplotlib.pyplot as plt\n",
    "import numpy as np\n",
    "from scipy.stats import zscore\n",
    "from scipy.stats import norm"
   ]
  },
  {
   "cell_type": "code",
   "execution_count": 98,
   "id": "653248f9-6524-4079-a735-efa453f8d2db",
   "metadata": {},
   "outputs": [],
   "source": [
    "#1.read 2 file\n",
    "df1=pd.read_excel('Data_Train_p1.xlsx')\n",
    "df2=pd.read_excel('Data_Train_p2.xlsx')"
   ]
  },
  {
   "cell_type": "code",
   "execution_count": 99,
   "id": "4ab3865f-4eb9-450c-91b8-500104e27260",
   "metadata": {},
   "outputs": [],
   "source": [
    "#2.merge\n",
    "frames=[df1,df2]\n",
    "df=pd.concat(frames,ignore_index=True)\n",
    "df=df.reset_index()"
   ]
  },
  {
   "cell_type": "code",
   "execution_count": 100,
   "id": "22eadaf6-ea39-46da-852f-6df3b607868a",
   "metadata": {},
   "outputs": [
    {
     "name": "stdout",
     "output_type": "stream",
     "text": [
      "<class 'pandas.core.frame.DataFrame'>\n",
      "RangeIndex: 10684 entries, 0 to 10683\n",
      "Data columns (total 12 columns):\n",
      " #   Column           Non-Null Count  Dtype \n",
      "---  ------           --------------  ----- \n",
      " 0   index            10684 non-null  int64 \n",
      " 1   Airline          10684 non-null  object\n",
      " 2   Date_of_Journey  10684 non-null  object\n",
      " 3   Source           10684 non-null  object\n",
      " 4   Destination      10684 non-null  object\n",
      " 5   Route            10683 non-null  object\n",
      " 6   Dep_Time         10684 non-null  object\n",
      " 7   Arrival_Time     10684 non-null  object\n",
      " 8   Duration         10684 non-null  object\n",
      " 9   Total_Stops      10683 non-null  object\n",
      " 10  Additional_Info  10684 non-null  object\n",
      " 11  Price            10684 non-null  int64 \n",
      "dtypes: int64(2), object(10)\n",
      "memory usage: 1001.8+ KB\n"
     ]
    }
   ],
   "source": [
    "df.info()"
   ]
  },
  {
   "cell_type": "code",
   "execution_count": 101,
   "id": "6db33795-cd42-4797-bf06-aa1eee3f440a",
   "metadata": {},
   "outputs": [
    {
     "data": {
      "text/html": [
       "<div>\n",
       "<style scoped>\n",
       "    .dataframe tbody tr th:only-of-type {\n",
       "        vertical-align: middle;\n",
       "    }\n",
       "\n",
       "    .dataframe tbody tr th {\n",
       "        vertical-align: top;\n",
       "    }\n",
       "\n",
       "    .dataframe thead th {\n",
       "        text-align: right;\n",
       "    }\n",
       "</style>\n",
       "<table border=\"1\" class=\"dataframe\">\n",
       "  <thead>\n",
       "    <tr style=\"text-align: right;\">\n",
       "      <th></th>\n",
       "      <th>index</th>\n",
       "      <th>Airline</th>\n",
       "      <th>Date_of_Journey</th>\n",
       "      <th>Source</th>\n",
       "      <th>Destination</th>\n",
       "      <th>Route</th>\n",
       "      <th>Dep_Time</th>\n",
       "      <th>Arrival_Time</th>\n",
       "      <th>Duration</th>\n",
       "      <th>Total_Stops</th>\n",
       "      <th>Additional_Info</th>\n",
       "      <th>Price</th>\n",
       "    </tr>\n",
       "  </thead>\n",
       "  <tbody>\n",
       "    <tr>\n",
       "      <th>8645</th>\n",
       "      <td>8645</td>\n",
       "      <td>SpiceJet</td>\n",
       "      <td>27/03/2019</td>\n",
       "      <td>Mumbai</td>\n",
       "      <td>Hyderabad</td>\n",
       "      <td>BOM → HYD</td>\n",
       "      <td>05:45</td>\n",
       "      <td>07:05</td>\n",
       "      <td>1h 20m</td>\n",
       "      <td>non-stop</td>\n",
       "      <td>No info</td>\n",
       "      <td>1759</td>\n",
       "    </tr>\n",
       "    <tr>\n",
       "      <th>2406</th>\n",
       "      <td>2406</td>\n",
       "      <td>SpiceJet</td>\n",
       "      <td>27/03/2019</td>\n",
       "      <td>Mumbai</td>\n",
       "      <td>Hyderabad</td>\n",
       "      <td>BOM → HYD</td>\n",
       "      <td>22:45</td>\n",
       "      <td>00:10 28 Mar</td>\n",
       "      <td>1h 25m</td>\n",
       "      <td>non-stop</td>\n",
       "      <td>No info</td>\n",
       "      <td>1759</td>\n",
       "    </tr>\n",
       "    <tr>\n",
       "      <th>2198</th>\n",
       "      <td>2198</td>\n",
       "      <td>SpiceJet</td>\n",
       "      <td>21/03/2019</td>\n",
       "      <td>Mumbai</td>\n",
       "      <td>Hyderabad</td>\n",
       "      <td>BOM → HYD</td>\n",
       "      <td>22:45</td>\n",
       "      <td>00:10 22 Mar</td>\n",
       "      <td>1h 25m</td>\n",
       "      <td>non-stop</td>\n",
       "      <td>No info</td>\n",
       "      <td>1759</td>\n",
       "    </tr>\n",
       "    <tr>\n",
       "      <th>2971</th>\n",
       "      <td>2971</td>\n",
       "      <td>SpiceJet</td>\n",
       "      <td>3/04/2019</td>\n",
       "      <td>Mumbai</td>\n",
       "      <td>Hyderabad</td>\n",
       "      <td>BOM → HYD</td>\n",
       "      <td>22:45</td>\n",
       "      <td>00:15 02 Apr</td>\n",
       "      <td>1h 30m</td>\n",
       "      <td>non-stop</td>\n",
       "      <td>No info</td>\n",
       "      <td>1759</td>\n",
       "    </tr>\n",
       "    <tr>\n",
       "      <th>9908</th>\n",
       "      <td>9908</td>\n",
       "      <td>Jet Airways</td>\n",
       "      <td>27/03/2019</td>\n",
       "      <td>Mumbai</td>\n",
       "      <td>Hyderabad</td>\n",
       "      <td>BOM → HYD</td>\n",
       "      <td>02:55</td>\n",
       "      <td>04:25</td>\n",
       "      <td>1h 30m</td>\n",
       "      <td>non-stop</td>\n",
       "      <td>In-flight meal not included</td>\n",
       "      <td>1840</td>\n",
       "    </tr>\n",
       "    <tr>\n",
       "      <th>...</th>\n",
       "      <td>...</td>\n",
       "      <td>...</td>\n",
       "      <td>...</td>\n",
       "      <td>...</td>\n",
       "      <td>...</td>\n",
       "      <td>...</td>\n",
       "      <td>...</td>\n",
       "      <td>...</td>\n",
       "      <td>...</td>\n",
       "      <td>...</td>\n",
       "      <td>...</td>\n",
       "      <td>...</td>\n",
       "    </tr>\n",
       "    <tr>\n",
       "      <th>9873</th>\n",
       "      <td>9873</td>\n",
       "      <td>Jet Airways</td>\n",
       "      <td>18/03/2019</td>\n",
       "      <td>Banglore</td>\n",
       "      <td>New Delhi</td>\n",
       "      <td>BLR → BOM → DEL</td>\n",
       "      <td>18:40</td>\n",
       "      <td>00:45 16 Mar</td>\n",
       "      <td>6h 5m</td>\n",
       "      <td>1 stop</td>\n",
       "      <td>No info</td>\n",
       "      <td>54826</td>\n",
       "    </tr>\n",
       "    <tr>\n",
       "      <th>750</th>\n",
       "      <td>750</td>\n",
       "      <td>Jet Airways</td>\n",
       "      <td>18/03/2019</td>\n",
       "      <td>Banglore</td>\n",
       "      <td>New Delhi</td>\n",
       "      <td>BLR → BOM → DEL</td>\n",
       "      <td>22:50</td>\n",
       "      <td>05:05 16 Mar</td>\n",
       "      <td>6h 15m</td>\n",
       "      <td>1 stop</td>\n",
       "      <td>No info</td>\n",
       "      <td>54826</td>\n",
       "    </tr>\n",
       "    <tr>\n",
       "      <th>8496</th>\n",
       "      <td>8496</td>\n",
       "      <td>Jet Airways Business</td>\n",
       "      <td>01/03/2019</td>\n",
       "      <td>Banglore</td>\n",
       "      <td>New Delhi</td>\n",
       "      <td>BLR → MAA → DEL</td>\n",
       "      <td>09:45</td>\n",
       "      <td>14:25</td>\n",
       "      <td>4h 40m</td>\n",
       "      <td>1 stop</td>\n",
       "      <td>Business class</td>\n",
       "      <td>57209</td>\n",
       "    </tr>\n",
       "    <tr>\n",
       "      <th>3504</th>\n",
       "      <td>3504</td>\n",
       "      <td>Jet Airways Business</td>\n",
       "      <td>01/03/2019</td>\n",
       "      <td>Banglore</td>\n",
       "      <td>New Delhi</td>\n",
       "      <td>BLR → BOM → DEL</td>\n",
       "      <td>05:45</td>\n",
       "      <td>12:25</td>\n",
       "      <td>6h 40m</td>\n",
       "      <td>1 stop</td>\n",
       "      <td>Business class</td>\n",
       "      <td>62427</td>\n",
       "    </tr>\n",
       "    <tr>\n",
       "      <th>1056</th>\n",
       "      <td>1056</td>\n",
       "      <td>Jet Airways Business</td>\n",
       "      <td>01/03/2019</td>\n",
       "      <td>Banglore</td>\n",
       "      <td>New Delhi</td>\n",
       "      <td>BLR → BOM → DEL</td>\n",
       "      <td>05:45</td>\n",
       "      <td>11:25</td>\n",
       "      <td>5h 40m</td>\n",
       "      <td>1 stop</td>\n",
       "      <td>Business class</td>\n",
       "      <td>79512</td>\n",
       "    </tr>\n",
       "  </tbody>\n",
       "</table>\n",
       "<p>10684 rows × 12 columns</p>\n",
       "</div>"
      ],
      "text/plain": [
       "      index               Airline Date_of_Journey    Source Destination  \\\n",
       "8645   8645              SpiceJet      27/03/2019    Mumbai   Hyderabad   \n",
       "2406   2406              SpiceJet      27/03/2019    Mumbai   Hyderabad   \n",
       "2198   2198              SpiceJet      21/03/2019    Mumbai   Hyderabad   \n",
       "2971   2971              SpiceJet       3/04/2019    Mumbai   Hyderabad   \n",
       "9908   9908           Jet Airways      27/03/2019    Mumbai   Hyderabad   \n",
       "...     ...                   ...             ...       ...         ...   \n",
       "9873   9873           Jet Airways      18/03/2019  Banglore   New Delhi   \n",
       "750     750           Jet Airways      18/03/2019  Banglore   New Delhi   \n",
       "8496   8496  Jet Airways Business      01/03/2019  Banglore   New Delhi   \n",
       "3504   3504  Jet Airways Business      01/03/2019  Banglore   New Delhi   \n",
       "1056   1056  Jet Airways Business      01/03/2019  Banglore   New Delhi   \n",
       "\n",
       "                Route Dep_Time  Arrival_Time Duration Total_Stops  \\\n",
       "8645        BOM → HYD    05:45         07:05   1h 20m    non-stop   \n",
       "2406        BOM → HYD    22:45  00:10 28 Mar   1h 25m    non-stop   \n",
       "2198        BOM → HYD    22:45  00:10 22 Mar   1h 25m    non-stop   \n",
       "2971        BOM → HYD    22:45  00:15 02 Apr   1h 30m    non-stop   \n",
       "9908        BOM → HYD    02:55         04:25   1h 30m    non-stop   \n",
       "...               ...      ...           ...      ...         ...   \n",
       "9873  BLR → BOM → DEL    18:40  00:45 16 Mar    6h 5m      1 stop   \n",
       "750   BLR → BOM → DEL    22:50  05:05 16 Mar   6h 15m      1 stop   \n",
       "8496  BLR → MAA → DEL    09:45         14:25   4h 40m      1 stop   \n",
       "3504  BLR → BOM → DEL    05:45         12:25   6h 40m      1 stop   \n",
       "1056  BLR → BOM → DEL    05:45         11:25   5h 40m      1 stop   \n",
       "\n",
       "                  Additional_Info  Price  \n",
       "8645                      No info   1759  \n",
       "2406                      No info   1759  \n",
       "2198                      No info   1759  \n",
       "2971                      No info   1759  \n",
       "9908  In-flight meal not included   1840  \n",
       "...                           ...    ...  \n",
       "9873                      No info  54826  \n",
       "750                       No info  54826  \n",
       "8496               Business class  57209  \n",
       "3504               Business class  62427  \n",
       "1056               Business class  79512  \n",
       "\n",
       "[10684 rows x 12 columns]"
      ]
     },
     "execution_count": 101,
     "metadata": {},
     "output_type": "execute_result"
    }
   ],
   "source": [
    "df=df.sort_values(by=['Price'])\n",
    "df"
   ]
  },
  {
   "cell_type": "code",
   "execution_count": 102,
   "id": "f73cf1e7-77aa-48c5-a7d0-35c72d707b16",
   "metadata": {},
   "outputs": [
    {
     "data": {
      "text/plain": [
       "79512"
      ]
     },
     "execution_count": 102,
     "metadata": {},
     "output_type": "execute_result"
    }
   ],
   "source": [
    "#max price\n",
    "max_price=df['Price'].max()\n",
    "max_price"
   ]
  },
  {
   "cell_type": "code",
   "execution_count": 103,
   "id": "c83edc7d-f27b-40e0-9de0-5359dbaa7560",
   "metadata": {},
   "outputs": [
    {
     "data": {
      "text/plain": [
       "1759"
      ]
     },
     "execution_count": 103,
     "metadata": {},
     "output_type": "execute_result"
    }
   ],
   "source": [
    "#min price \n",
    "min_price=df['Price'].min()\n",
    "min_price"
   ]
  },
  {
   "cell_type": "code",
   "execution_count": 104,
   "id": "85f42a5d-04ce-4d69-8fdf-317bbfbca223",
   "metadata": {},
   "outputs": [
    {
     "data": {
      "text/plain": [
       "9087.545582178958"
      ]
     },
     "execution_count": 104,
     "metadata": {},
     "output_type": "execute_result"
    }
   ],
   "source": [
    "#mean price\n",
    "mean_price=df['Price'].mean()\n",
    "mean_price"
   ]
  },
  {
   "cell_type": "code",
   "execution_count": 105,
   "id": "ad6e82af-672d-434d-bfb8-249481bb94c5",
   "metadata": {},
   "outputs": [
    {
     "data": {
      "text/plain": [
       "0    10262\n",
       "Name: Price, dtype: int64"
      ]
     },
     "execution_count": 105,
     "metadata": {},
     "output_type": "execute_result"
    }
   ],
   "source": [
    "#mode price\n",
    "mode_price=df['Price'].mode()\n",
    "mode_price"
   ]
  },
  {
   "cell_type": "code",
   "execution_count": 106,
   "id": "d90359da-39c0-4a49-a472-f546025334e9",
   "metadata": {},
   "outputs": [
    {
     "data": {
      "text/plain": [
       "8372.0"
      ]
     },
     "execution_count": 106,
     "metadata": {},
     "output_type": "execute_result"
    }
   ],
   "source": [
    "median_price=df['Price'].median()\n",
    "median_price"
   ]
  },
  {
   "cell_type": "code",
   "execution_count": 107,
   "id": "efb954c3-9935-401b-bea6-46bf5174c4d9",
   "metadata": {},
   "outputs": [
    {
     "data": {
      "text/plain": [
       "4611.19605862212"
      ]
     },
     "execution_count": 107,
     "metadata": {},
     "output_type": "execute_result"
    }
   ],
   "source": [
    "#do lech chuan\n",
    "std=np.std(df['Price'])\n",
    "std"
   ]
  },
  {
   "cell_type": "code",
   "execution_count": 108,
   "id": "31aeb745-8560-4d2b-95bf-56d24928496d",
   "metadata": {},
   "outputs": [
    {
     "data": {
      "text/plain": [
       "77753"
      ]
     },
     "execution_count": 108,
     "metadata": {},
     "output_type": "execute_result"
    }
   ],
   "source": [
    "# Range\n",
    "r=max_price-min_price\n",
    "r"
   ]
  },
  {
   "cell_type": "code",
   "execution_count": null,
   "id": "a4ada400-9f90-46e2-ac70-0211a4d1eead",
   "metadata": {},
   "outputs": [],
   "source": []
  },
  {
   "cell_type": "code",
   "execution_count": 134,
   "id": "c37cb0d8-fdf3-4b01-b0d7-99588675dc7a",
   "metadata": {},
   "outputs": [
    {
     "name": "stdout",
     "output_type": "stream",
     "text": [
      "5277.0\n",
      "8372.0\n",
      "12373.0\n",
      "-5367.0\n",
      "23017.0\n"
     ]
    }
   ],
   "source": [
    "#TU PHAN VI\n",
    "Q1=df['Price'].quantile(0.25)\n",
    "Q2=df['Price'].quantile(0.5)\n",
    "Q3=df['Price'].quantile(0.75)\n",
    "IQR=Q3-Q1\n",
    "UF=Q3+(1.5*IQR)\n",
    "LF=Q1-(1.5*IQR)\n",
    "print(Q1)\n",
    "print(Q2)\n",
    "print(Q3)\n",
    "print(LF)\n",
    "print(UF)"
   ]
  },
  {
   "cell_type": "code",
   "execution_count": 110,
   "id": "f9540a0c-8808-4ede-94a8-1f2a72d962b3",
   "metadata": {},
   "outputs": [
    {
     "data": {
      "text/plain": [
       "0   -0.254696\n",
       "Name: Price, dtype: float64"
      ]
     },
     "execution_count": 110,
     "metadata": {},
     "output_type": "execute_result"
    }
   ],
   "source": [
    "#SKEWNESS \n",
    "#du lieu lech trai\n",
    "SKEWNESS=(mean_price-mode_price)/std\n",
    "SKEWNESS"
   ]
  },
  {
   "cell_type": "code",
   "execution_count": 111,
   "id": "82a5487c-11df-451d-9a1f-33c051971f0b",
   "metadata": {},
   "outputs": [
    {
     "data": {
      "image/png": "[encoded data removed]",
      "text/plain": [
       "<Figure size 1000x600 with 1 Axes>"
      ]
     },
     "metadata": {},
     "output_type": "display_data"
    }
   ],
   "source": [
    "\n",
    "x=np.linspace(mean_price-5*std,mean_price+5*std,1000)\n",
    "plt.figure(figsize=(10,6))\n",
    "plt.plot(x,norm.pdf(x,mean_price,std),color='blue',label='curve of N(mean,std)')\n",
    "plt.hist(df['Price'],bins=30,density=True,color='skyblue',edgecolor='black',alpha=0.7,label='price frequency')\n",
    "plt.scatter(df['Price'],norm.pdf(df['Price'],mean_price,std),color='red',s=100,label='price\\'s pdf')\n",
    "plt.xlabel('price')\n",
    "plt.xticks(range(int(mean_price-5*std),int(mean_price+5*std),6500))\n",
    "plt.ylabel('probabolity density')\n",
    "plt.title('probability distribution function of prices')\n",
    "plt.legend()\n",
    "plt.show()"
   ]
  },
  {
   "cell_type": "code",
   "execution_count": 112,
   "id": "74781bb9-d832-4931-addb-a03121c0cf27",
   "metadata": {},
   "outputs": [
    {
     "data": {
      "image/png": "[encoded data removed]",
      "text/plain": [
       "<Figure size 640x480 with 1 Axes>"
      ]
     },
     "metadata": {},
     "output_type": "display_data"
    }
   ],
   "source": [
    "plt.hist(df['Price'],bins=50,density=True,color='skyblue',edgecolor='black',alpha=0.7,label='price frequency')\n",
    "plt.show()"
   ]
  },
  {
   "cell_type": "code",
   "execution_count": 113,
   "id": "126a6138-3c6d-4314-ac87-4131ef54ba21",
   "metadata": {},
   "outputs": [
    {
     "data": {
      "text/html": [
       "<div>\n",
       "<style scoped>\n",
       "    .dataframe tbody tr th:only-of-type {\n",
       "        vertical-align: middle;\n",
       "    }\n",
       "\n",
       "    .dataframe tbody tr th {\n",
       "        vertical-align: top;\n",
       "    }\n",
       "\n",
       "    .dataframe thead th {\n",
       "        text-align: right;\n",
       "    }\n",
       "</style>\n",
       "<table border=\"1\" class=\"dataframe\">\n",
       "  <thead>\n",
       "    <tr style=\"text-align: right;\">\n",
       "      <th></th>\n",
       "      <th>index</th>\n",
       "      <th>Airline</th>\n",
       "      <th>Date_of_Journey</th>\n",
       "      <th>Source</th>\n",
       "      <th>Destination</th>\n",
       "      <th>Route</th>\n",
       "      <th>Dep_Time</th>\n",
       "      <th>Arrival_Time</th>\n",
       "      <th>Duration</th>\n",
       "      <th>Total_Stops</th>\n",
       "      <th>Additional_Info</th>\n",
       "      <th>Price</th>\n",
       "    </tr>\n",
       "  </thead>\n",
       "  <tbody>\n",
       "    <tr>\n",
       "      <th>4189</th>\n",
       "      <td>4189</td>\n",
       "      <td>Jet Airways</td>\n",
       "      <td>9/06/2019</td>\n",
       "      <td>Delhi</td>\n",
       "      <td>Cochin</td>\n",
       "      <td>DEL → BOM → COK</td>\n",
       "      <td>13:00</td>\n",
       "      <td>19:00</td>\n",
       "      <td>6h</td>\n",
       "      <td>1 stop</td>\n",
       "      <td>In-flight meal not included</td>\n",
       "      <td>10262</td>\n",
       "    </tr>\n",
       "    <tr>\n",
       "      <th>386</th>\n",
       "      <td>386</td>\n",
       "      <td>Jet Airways</td>\n",
       "      <td>1/06/2019</td>\n",
       "      <td>Delhi</td>\n",
       "      <td>Cochin</td>\n",
       "      <td>DEL → BOM → COK</td>\n",
       "      <td>19:15</td>\n",
       "      <td>19:00 02 Jun</td>\n",
       "      <td>23h 45m</td>\n",
       "      <td>1 stop</td>\n",
       "      <td>In-flight meal not included</td>\n",
       "      <td>10262</td>\n",
       "    </tr>\n",
       "    <tr>\n",
       "      <th>4176</th>\n",
       "      <td>4176</td>\n",
       "      <td>Jet Airways</td>\n",
       "      <td>9/06/2019</td>\n",
       "      <td>Delhi</td>\n",
       "      <td>Cochin</td>\n",
       "      <td>DEL → BOM → COK</td>\n",
       "      <td>15:00</td>\n",
       "      <td>12:35 10 Jun</td>\n",
       "      <td>21h 35m</td>\n",
       "      <td>1 stop</td>\n",
       "      <td>In-flight meal not included</td>\n",
       "      <td>10262</td>\n",
       "    </tr>\n",
       "    <tr>\n",
       "      <th>1950</th>\n",
       "      <td>1950</td>\n",
       "      <td>Jet Airways</td>\n",
       "      <td>24/06/2019</td>\n",
       "      <td>Delhi</td>\n",
       "      <td>Cochin</td>\n",
       "      <td>DEL → BOM → COK</td>\n",
       "      <td>10:00</td>\n",
       "      <td>12:35 25 Jun</td>\n",
       "      <td>26h 35m</td>\n",
       "      <td>1 stop</td>\n",
       "      <td>In-flight meal not included</td>\n",
       "      <td>10262</td>\n",
       "    </tr>\n",
       "    <tr>\n",
       "      <th>4266</th>\n",
       "      <td>4266</td>\n",
       "      <td>Jet Airways</td>\n",
       "      <td>24/06/2019</td>\n",
       "      <td>Delhi</td>\n",
       "      <td>Cochin</td>\n",
       "      <td>DEL → BOM → COK</td>\n",
       "      <td>15:00</td>\n",
       "      <td>12:35 25 Jun</td>\n",
       "      <td>21h 35m</td>\n",
       "      <td>1 stop</td>\n",
       "      <td>In-flight meal not included</td>\n",
       "      <td>10262</td>\n",
       "    </tr>\n",
       "    <tr>\n",
       "      <th>...</th>\n",
       "      <td>...</td>\n",
       "      <td>...</td>\n",
       "      <td>...</td>\n",
       "      <td>...</td>\n",
       "      <td>...</td>\n",
       "      <td>...</td>\n",
       "      <td>...</td>\n",
       "      <td>...</td>\n",
       "      <td>...</td>\n",
       "      <td>...</td>\n",
       "      <td>...</td>\n",
       "      <td>...</td>\n",
       "    </tr>\n",
       "    <tr>\n",
       "      <th>8845</th>\n",
       "      <td>8845</td>\n",
       "      <td>Jet Airways</td>\n",
       "      <td>9/06/2019</td>\n",
       "      <td>Delhi</td>\n",
       "      <td>Cochin</td>\n",
       "      <td>DEL → BOM → COK</td>\n",
       "      <td>07:05</td>\n",
       "      <td>19:00</td>\n",
       "      <td>11h 55m</td>\n",
       "      <td>1 stop</td>\n",
       "      <td>In-flight meal not included</td>\n",
       "      <td>10262</td>\n",
       "    </tr>\n",
       "    <tr>\n",
       "      <th>180</th>\n",
       "      <td>180</td>\n",
       "      <td>Jet Airways</td>\n",
       "      <td>1/06/2019</td>\n",
       "      <td>Delhi</td>\n",
       "      <td>Cochin</td>\n",
       "      <td>DEL → BOM → COK</td>\n",
       "      <td>10:00</td>\n",
       "      <td>04:25 02 Jun</td>\n",
       "      <td>18h 25m</td>\n",
       "      <td>1 stop</td>\n",
       "      <td>In-flight meal not included</td>\n",
       "      <td>10262</td>\n",
       "    </tr>\n",
       "    <tr>\n",
       "      <th>1216</th>\n",
       "      <td>1216</td>\n",
       "      <td>Jet Airways</td>\n",
       "      <td>9/06/2019</td>\n",
       "      <td>Delhi</td>\n",
       "      <td>Cochin</td>\n",
       "      <td>DEL → BOM → COK</td>\n",
       "      <td>09:00</td>\n",
       "      <td>19:00</td>\n",
       "      <td>10h</td>\n",
       "      <td>1 stop</td>\n",
       "      <td>In-flight meal not included</td>\n",
       "      <td>10262</td>\n",
       "    </tr>\n",
       "    <tr>\n",
       "      <th>5655</th>\n",
       "      <td>5655</td>\n",
       "      <td>Jet Airways</td>\n",
       "      <td>12/06/2019</td>\n",
       "      <td>Delhi</td>\n",
       "      <td>Cochin</td>\n",
       "      <td>DEL → BOM → COK</td>\n",
       "      <td>19:15</td>\n",
       "      <td>19:00 13 Jun</td>\n",
       "      <td>23h 45m</td>\n",
       "      <td>1 stop</td>\n",
       "      <td>In-flight meal not included</td>\n",
       "      <td>10262</td>\n",
       "    </tr>\n",
       "    <tr>\n",
       "      <th>5977</th>\n",
       "      <td>5977</td>\n",
       "      <td>Jet Airways</td>\n",
       "      <td>1/06/2019</td>\n",
       "      <td>Delhi</td>\n",
       "      <td>Cochin</td>\n",
       "      <td>DEL → BOM → COK</td>\n",
       "      <td>19:15</td>\n",
       "      <td>12:35 02 Jun</td>\n",
       "      <td>17h 20m</td>\n",
       "      <td>1 stop</td>\n",
       "      <td>In-flight meal not included</td>\n",
       "      <td>10262</td>\n",
       "    </tr>\n",
       "  </tbody>\n",
       "</table>\n",
       "<p>258 rows × 12 columns</p>\n",
       "</div>"
      ],
      "text/plain": [
       "      index      Airline Date_of_Journey Source Destination            Route  \\\n",
       "4189   4189  Jet Airways       9/06/2019  Delhi      Cochin  DEL → BOM → COK   \n",
       "386     386  Jet Airways       1/06/2019  Delhi      Cochin  DEL → BOM → COK   \n",
       "4176   4176  Jet Airways       9/06/2019  Delhi      Cochin  DEL → BOM → COK   \n",
       "1950   1950  Jet Airways      24/06/2019  Delhi      Cochin  DEL → BOM → COK   \n",
       "4266   4266  Jet Airways      24/06/2019  Delhi      Cochin  DEL → BOM → COK   \n",
       "...     ...          ...             ...    ...         ...              ...   \n",
       "8845   8845  Jet Airways       9/06/2019  Delhi      Cochin  DEL → BOM → COK   \n",
       "180     180  Jet Airways       1/06/2019  Delhi      Cochin  DEL → BOM → COK   \n",
       "1216   1216  Jet Airways       9/06/2019  Delhi      Cochin  DEL → BOM → COK   \n",
       "5655   5655  Jet Airways      12/06/2019  Delhi      Cochin  DEL → BOM → COK   \n",
       "5977   5977  Jet Airways       1/06/2019  Delhi      Cochin  DEL → BOM → COK   \n",
       "\n",
       "     Dep_Time  Arrival_Time Duration Total_Stops              Additional_Info  \\\n",
       "4189    13:00         19:00       6h      1 stop  In-flight meal not included   \n",
       "386     19:15  19:00 02 Jun  23h 45m      1 stop  In-flight meal not included   \n",
       "4176    15:00  12:35 10 Jun  21h 35m      1 stop  In-flight meal not included   \n",
       "1950    10:00  12:35 25 Jun  26h 35m      1 stop  In-flight meal not included   \n",
       "4266    15:00  12:35 25 Jun  21h 35m      1 stop  In-flight meal not included   \n",
       "...       ...           ...      ...         ...                          ...   \n",
       "8845    07:05         19:00  11h 55m      1 stop  In-flight meal not included   \n",
       "180     10:00  04:25 02 Jun  18h 25m      1 stop  In-flight meal not included   \n",
       "1216    09:00         19:00      10h      1 stop  In-flight meal not included   \n",
       "5655    19:15  19:00 13 Jun  23h 45m      1 stop  In-flight meal not included   \n",
       "5977    19:15  12:35 02 Jun  17h 20m      1 stop  In-flight meal not included   \n",
       "\n",
       "      Price  \n",
       "4189  10262  \n",
       "386   10262  \n",
       "4176  10262  \n",
       "1950  10262  \n",
       "4266  10262  \n",
       "...     ...  \n",
       "8845  10262  \n",
       "180   10262  \n",
       "1216  10262  \n",
       "5655  10262  \n",
       "5977  10262  \n",
       "\n",
       "[258 rows x 12 columns]"
      ]
     },
     "execution_count": 113,
     "metadata": {},
     "output_type": "execute_result"
    }
   ],
   "source": [
    "df[df['Price']==10262]"
   ]
  },
  {
   "cell_type": "code",
   "execution_count": 114,
   "id": "fce41af9-8bf4-4ef1-81b3-f60a61d646e4",
   "metadata": {},
   "outputs": [
    {
     "name": "stdout",
     "output_type": "stream",
     "text": [
      "index:0.0%\n",
      "Airline:0.0%\n",
      "Date_of_Journey:0.0%\n",
      "Source:0.0%\n",
      "Destination:0.0%\n",
      "Route:0.01%\n",
      "Dep_Time:0.0%\n",
      "Arrival_Time:0.0%\n",
      "Duration:0.0%\n",
      "Total_Stops:0.01%\n",
      "Additional_Info:0.0%\n",
      "Price:0.0%\n"
     ]
    }
   ],
   "source": [
    "#4.\n",
    "for column in df.columns:\n",
    "    percentage=(df[column].isnull().sum()/len(df[column]))*100\n",
    "    print(f'{column}:{round(percentage,2)}%')\n",
    "    "
   ]
  },
  {
   "cell_type": "code",
   "execution_count": 119,
   "id": "71e24f4f-c5be-4311-af55-7b40f800615e",
   "metadata": {},
   "outputs": [],
   "source": [
    "#5.\n",
    "df_clean=df.dropna(axis=0)\n",
    "\n",
    "\n",
    "        "
   ]
  },
  {
   "cell_type": "code",
   "execution_count": 121,
   "id": "3a331fac-87cf-41a9-8a68-1fb29a1ee163",
   "metadata": {},
   "outputs": [
    {
     "name": "stdout",
     "output_type": "stream",
     "text": [
      "<class 'pandas.core.frame.DataFrame'>\n",
      "Index: 10683 entries, 8645 to 1056\n",
      "Data columns (total 12 columns):\n",
      " #   Column           Non-Null Count  Dtype \n",
      "---  ------           --------------  ----- \n",
      " 0   index            10683 non-null  int64 \n",
      " 1   Airline          10683 non-null  object\n",
      " 2   Date_of_Journey  10683 non-null  object\n",
      " 3   Source           10683 non-null  object\n",
      " 4   Destination      10683 non-null  object\n",
      " 5   Route            10683 non-null  object\n",
      " 6   Dep_Time         10683 non-null  object\n",
      " 7   Arrival_Time     10683 non-null  object\n",
      " 8   Duration         10683 non-null  object\n",
      " 9   Total_Stops      10683 non-null  object\n",
      " 10  Additional_Info  10683 non-null  object\n",
      " 11  Price            10683 non-null  int64 \n",
      "dtypes: int64(2), object(10)\n",
      "memory usage: 1.1+ MB\n"
     ]
    }
   ],
   "source": [
    "df_clean.info()"
   ]
  },
  {
   "cell_type": "code",
   "execution_count": 135,
   "id": "2ba76b3a-63e6-41fc-a718-84dc3a0c8875",
   "metadata": {},
   "outputs": [
    {
     "data": {
      "image/png": "[encoded data removed]",
      "text/plain": [
       "<Figure size 640x480 with 1 Axes>"
      ]
     },
     "metadata": {},
     "output_type": "display_data"
    }
   ],
   "source": [
    "#6.\n",
    "#boxplot\n",
    "plt.title('boxplot of price')\n",
    "plt.xlabel('price')\n",
    "plt.xticks(fontsize=10)\n",
    "plt.tight_layout()\n",
    "plt.boxplot(df_clean['Price'],vert=False)\n",
    "plt.show()"
   ]
  },
  {
   "cell_type": "code",
   "execution_count": 136,
   "id": "39e0f012-1f30-45a6-b3a2-e7721862748c",
   "metadata": {},
   "outputs": [],
   "source": [
    "# loai bo outlier\n",
    "filter = (df_clean['Price'] <LF) | (df_clean['Price'] > UF)\n",
    "removed_df = df_clean[filter]\n",
    "cleaned_df = df_clean[~filter]"
   ]
  },
  {
   "cell_type": "code",
   "execution_count": 137,
   "id": "56d5e3cb-71bb-433c-84c7-1dbf5ee2f66e",
   "metadata": {},
   "outputs": [
    {
     "data": {
      "image/png": "[encoded data removed]",
      "text/plain": [
       "<Figure size 640x480 with 1 Axes>"
      ]
     },
     "metadata": {},
     "output_type": "display_data"
    }
   ],
   "source": [
    "plt.title('boxplot of price')\n",
    "plt.xlabel('price')\n",
    "plt.xticks(fontsize=10)\n",
    "plt.tight_layout()\n",
    "plt.boxplot(['Price'],vert=False)\n",
    "plt.show()"
   ]
  },
  {
   "cell_type": "code",
   "execution_count": 138,
   "id": "7c9df98c-d814-4221-8acf-e94362ba7c25",
   "metadata": {},
   "outputs": [
    {
     "data": {
      "image/png": "[encoded data removed]",
      "text/plain": [
       "<Figure size 640x480 with 1 Axes>"
      ]
     },
     "metadata": {},
     "output_type": "display_data"
    }
   ],
   "source": []
  },
  {
   "cell_type": "code",
   "execution_count": null,
   "id": "c80298c6-3bec-49bf-b100-d2c1d0ec2e11",
   "metadata": {},
   "outputs": [],
   "source": []
  }
 ],
 "metadata": {
  "kernelspec": {
   "display_name": "Python 3 (ipykernel)",
   "language": "python",
   "name": "python3"
  },
  "language_info": {
   "codemirror_mode": {
    "name": "ipython",
    "version": 3
   },
   "file_extension": ".py",
   "mimetype": "text/x-python",
   "name": "python",
   "nbconvert_exporter": "python",
   "pygments_lexer": "ipython3",
   "version": "3.11.6"
  }
 },
 "nbformat": 4,
 "nbformat_minor": 5
}
